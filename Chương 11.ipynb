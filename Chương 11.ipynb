{
 "cells": [
  {
   "cell_type": "code",
   "execution_count": 40,
   "id": "6287c314-d820-468b-b2c2-179cc165b4c6",
   "metadata": {},
   "outputs": [
    {
     "name": "stderr",
     "output_type": "stream",
     "text": [
      "Using cache found in C:\\Users\\Admin/.cache\\torch\\hub\\ultralytics_yolov5_master\n",
      "YOLOv5  2024-11-29 Python-3.12.4 torch-2.2.2+cpu CPU\n",
      "\n",
      "Fusing layers... \n",
      "YOLOv5s summary: 213 layers, 7225885 parameters, 0 gradients, 16.4 GFLOPs\n",
      "Adding AutoShape... \n",
      "Saved 1 image to \u001b[1mruns\\detect\\exp12\u001b[0m\n"
     ]
    },
    {
     "name": "stdout",
     "output_type": "stream",
     "text": [
      "Detected 5 objects.\n",
      "Object 1: Class 0.0 with confidence 0.8961724042892456\n",
      "Object 2: Class 0.0 with confidence 0.8702477216720581\n",
      "Object 3: Class 0.0 with confidence 0.8515626788139343\n",
      "Object 4: Class 5.0 with confidence 0.8493340611457825\n",
      "Object 5: Class 0.0 with confidence 0.5349417328834534\n"
     ]
    }
   ],
   "source": [
    "import torch\n",
    "import matplotlib.pyplot as plt\n",
    "import cv2\n",
    "import numpy as np\n",
    "\n",
    "# Tải mô hình YOLOv5 đã huấn luyện (YOLOv5s là mô hình nhỏ, nhanh nhất)\n",
    "model = torch.hub.load('ultralytics/yolov5', 'yolov5s') \n",
    "\n",
    "# Đọc ảnh đầu vào\n",
    "image_path = 'images/bus.jpg'  \n",
    "image = cv2.imread(image_path)\n",
    "\n",
    "# Convert BGR to RGB\n",
    "image_rgb = cv2.cvtColor(image, cv2.COLOR_BGR2RGB)\n",
    "\n",
    "# Dự đoán đối tượng trong ảnh\n",
    "results = model(image_rgb)\n",
    "\n",
    "# In số lượng đối tượng phát hiện và thông tin về chúng\n",
    "print(f\"Detected {len(results.pred[0])} objects.\")\n",
    "\n",
    "# In thông tin về các đối tượng đã phát hiện\n",
    "for i, det in enumerate(results.pred[0]):\n",
    "    print(f\"Object {i+1}: Class {det[5]} with confidence {det[4]}\")\n",
    "\n",
    "# Vẽ bounding boxes lên ảnh\n",
    "results.render()  # Vẽ bounding boxes lên ảnh\n",
    "\n",
    "# Hiển thị ảnh với bounding boxes đã vẽ\n",
    "plt.imshow(results.ims[0])  # Hiển thị ảnh đầu tiên sau khi render\n",
    "plt.axis('off')  # Tắt trục\n",
    "plt.show()\n",
    "\n",
    "# Lưu ảnh với bounding boxes vào thư mục chỉ định\n",
    "output_path = 'output_images/chuong_11(1).png'\n",
    "results.save()  # Lưu ảnh kết quả vào thư mục hiện tại\n"
   ]
  },
  {
   "cell_type": "code",
   "execution_count": null,
   "id": "ef2954ab-e98c-40b2-b2ef-57be114968f7",
   "metadata": {},
   "outputs": [],
   "source": []
  }
 ],
 "metadata": {
  "kernelspec": {
   "display_name": "Python 3 (ipykernel)",
   "language": "python",
   "name": "python3"
  },
  "language_info": {
   "codemirror_mode": {
    "name": "ipython",
    "version": 3
   },
   "file_extension": ".py",
   "mimetype": "text/x-python",
   "name": "python",
   "nbconvert_exporter": "python",
   "pygments_lexer": "ipython3",
   "version": "3.12.4"
  }
 },
 "nbformat": 4,
 "nbformat_minor": 5
}
